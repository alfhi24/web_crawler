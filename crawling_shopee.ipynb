{
 "cells": [
  {
   "cell_type": "code",
   "execution_count": 15,
   "metadata": {},
   "outputs": [],
   "source": [
    "import json\n",
    "import requests\n",
    "import pandas as pd"
   ]
  },
  {
   "cell_type": "code",
   "execution_count": 16,
   "metadata": {},
   "outputs": [],
   "source": [
    "# UA = \"Mozilla/5.0 (X11; Linux x86_64) AppleWebKit/537.36 (KHTML, like Gecko) Chrome/80.0.3987.163 Safari/537.36\"\n",
    "# headers = {\"User-Agent\" : UA}\n",
    "# url = \"https://shopee.co.id/api/v2/item/get_ratings?filter=0&flag=1&itemid=2063242731&offset=0&shopid=123668866&type=0\"\n",
    "# req = requests.get(url, headers=headers).content.decode(\"utf-8\")\n",
    "# data_crawl = json.loads(req)\n",
    "# json_formatted_str = json.dumps(data_crawl, indent=4)\n",
    "# # print(json_formatted_str)\n",
    "\n",
    "# # product_id = [\"data\"][\"rating\"][i][\"product_items\"][0][\"itemid\"]\n",
    "# # product_name = [\"data\"][\"rating\"][i][\"product_items\"][0][\"name\"]\n",
    "# # product_review = [\"data\"][\"rating\"][i][\"comment\"]\n",
    "# # rate_review = [\"data\"][\"rating\"][i][\"rating_star\"]\n",
    "\n",
    "\n",
    "# product_id = []\n",
    "# product_name = []\n",
    "# review_product = []\n",
    "# rate_review = []\n",
    "# for i in range(len(data_crawl[\"data\"][\"ratings\"])) :\n",
    "#     product_id.append(data_crawl[\"data\"][\"ratings\"][i][\"product_items\"][0][\"itemid\"])\n",
    "#     product_name.append(data_crawl[\"data\"][\"ratings\"][i][\"product_items\"][0][\"name\"])\n",
    "#     review_product.append(data_crawl[\"data\"][\"ratings\"][i][\"comment\"])\n",
    "#     rate_review.append(data_crawl[\"data\"][\"ratings\"][i][\"rating_star\"])    \n",
    "# df = pd.DataFrame(list(zip(product_id, product_name, review_product, rate_review)), columns =['product_id', 'product_name', 'review_product', 'rate_review'])\n",
    "# return df"
   ]
  },
  {
   "cell_type": "code",
   "execution_count": 17,
   "metadata": {},
   "outputs": [],
   "source": [
    "def crawling(url) :\n",
    "    UA = \"Mozilla/5.0 (X11; Linux x86_64) AppleWebKit/537.36 (KHTML, like Gecko) Chrome/80.0.3987.163 Safari/537.36\"\n",
    "    headers = {\"User-Agent\" : UA}\n",
    "    req = requests.get(url, headers=headers).content.decode(\"utf-8\")\n",
    "    data_crawl = json.loads(req)\n",
    "    return data_crawl\n",
    "\n",
    "# product_id = [\"data\"][\"rating\"][i][\"product_items\"][0][\"itemid\"]\n",
    "# product_name = [\"data\"][\"rating\"][i][\"product_items\"][0][\"name\"]\n",
    "# product_review = [\"data\"][\"rating\"][i][\"comment\"]\n",
    "# rate_review = [\"data\"][\"rating\"][i][\"rating_star\"]\n",
    "\n",
    "def parsing(data_crawl) :\n",
    "    product_id = []\n",
    "    product_name = []\n",
    "    review_product = []\n",
    "    rate_review = []\n",
    "    for i in range(len(data_crawl[\"data\"][\"ratings\"])) :\n",
    "        product_id.append(data_crawl[\"data\"][\"ratings\"][i][\"product_items\"][0][\"itemid\"])\n",
    "        product_name.append(data_crawl[\"data\"][\"ratings\"][i][\"product_items\"][0][\"name\"])\n",
    "        review_product.append(data_crawl[\"data\"][\"ratings\"][i][\"comment\"])\n",
    "        rate_review.append(data_crawl[\"data\"][\"ratings\"][i][\"rating_star\"])    \n",
    "    df = pd.DataFrame(list(zip(product_id, product_name, review_product, rate_review)), columns =['product_id', 'product_name', 'review_product', 'rate_review'])\n",
    "    return df"
   ]
  },
  {
   "cell_type": "code",
   "execution_count": 18,
   "metadata": {
    "scrolled": true
   },
   "outputs": [
    {
     "name": "stdout",
     "output_type": "stream",
     "text": [
      "Copy URL here : https://shopee.co.id/api/v2/item/get_ratings?filter=0&flag=1&itemid=2063242731&offset=0&shopid=123668866&type=0\n",
      "\n",
      " crawling done\n"
     ]
    },
    {
     "data": {
      "text/plain": [
       "(14, 5)"
      ]
     },
     "execution_count": 18,
     "metadata": {},
     "output_type": "execute_result"
    }
   ],
   "source": [
    "url = input(\"Copy URL here : \")\n",
    "data_crawl = crawling(url)\n",
    "df = parsing(data_crawl)\n",
    "df.to_csv(\"data_shopee.csv\", mode='a', header=False)\n",
    "print(\"\\n crawling done\")\n",
    "pd.read_csv('data_shopee.csv').shape"
   ]
  },
  {
   "cell_type": "markdown",
   "metadata": {},
   "source": [
    "Data -> id, sender, product, review\n",
    "sender -> id, name, type, url, avatar_url\n",
    "product, id, name, image_url, url\n",
    "review -> title, content, rate, anonym"
   ]
  }
 ],
 "metadata": {
  "kernelspec": {
   "display_name": "Python 3",
   "language": "python",
   "name": "python3"
  },
  "language_info": {
   "codemirror_mode": {
    "name": "ipython",
    "version": 3
   },
   "file_extension": ".py",
   "mimetype": "text/x-python",
   "name": "python",
   "nbconvert_exporter": "python",
   "pygments_lexer": "ipython3",
   "version": "3.7.1"
  }
 },
 "nbformat": 4,
 "nbformat_minor": 4
}
