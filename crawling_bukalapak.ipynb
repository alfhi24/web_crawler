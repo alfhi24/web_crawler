{
 "cells": [
  {
   "cell_type": "code",
   "execution_count": 9,
   "metadata": {},
   "outputs": [],
   "source": [
    "import json\n",
    "import requests\n",
    "import pandas as pd"
   ]
  },
  {
   "cell_type": "code",
   "execution_count": 10,
   "metadata": {},
   "outputs": [],
   "source": [
    "def crawling(url) :\n",
    "    UA = \"Mozilla/5.0 (X11; Linux x86_64) AppleWebKit/537.36 (KHTML, like Gecko) Chrome/80.0.3987.163 Safari/537.36\"\n",
    "    headers = {\"User-Agent\" : UA}\n",
    "    req = requests.get(url, headers=headers).content.decode(\"utf-8\")\n",
    "    data_crawl = json.loads(req)\n",
    "    return data_crawl\n",
    "\n",
    "# Data -> id, sender, product, review\n",
    "# sender -> id, name, type, url, avatar_url\n",
    "# product, id, name, image_url, url\n",
    "# review -> title, content, rate, anonym\n",
    "\n",
    "def parsing(data_crawl) :\n",
    "    product_id = []\n",
    "    product_name = []\n",
    "    review_product = []\n",
    "    rate_review = []\n",
    "    for i in range(len(data_crawl[\"data\"])) :\n",
    "        product_id.append(data_crawl[\"data\"][i][\"product\"][\"id\"])\n",
    "        product_name.append(data_crawl[\"data\"][i][\"product\"][\"name\"])\n",
    "        review_product.append(data_crawl[\"data\"][i][\"review\"][\"content\"])\n",
    "        rate_review.append(data_crawl[\"data\"][i][\"review\"][\"rate\"])\n",
    "    df = pd.DataFrame(list(zip(product_id, product_name, review_product, rate_review)), columns =['product_id', 'product_name', 'review_product', 'rate_review'])\n",
    "    return df"
   ]
  },
  {
   "cell_type": "code",
   "execution_count": 39,
   "metadata": {
    "scrolled": true
   },
   "outputs": [
    {
     "name": "stdout",
     "output_type": "stream",
     "text": [
      "Copy URL here : https://api.bukalapak.com/product-reviews?access_token=tuQ6kIYAfLXU-OyUHk7zooEOEzShzwggYemYndHdlWoTfw&has_description=true&product_id=2h7wk71&offset=0\n",
      "\n",
      " crawling done\n"
     ]
    },
    {
     "data": {
      "text/plain": [
       "(355, 5)"
      ]
     },
     "execution_count": 39,
     "metadata": {},
     "output_type": "execute_result"
    }
   ],
   "source": [
    "url = input(\"Copy URL here : \")\n",
    "data_crawl = crawling(url)\n",
    "df = parsing(data_crawl)\n",
    "df.to_csv(\"data.csv\", mode='a', header=False)\n",
    "print(\"\\n crawling done\")\n",
    "pd.read_csv('data.csv').shape"
   ]
  },
  {
   "cell_type": "markdown",
   "metadata": {},
   "source": [
    "Data -> id, sender, product, review\n",
    "sender -> id, name, type, url, avatar_url\n",
    "product, id, name, image_url, url\n",
    "review -> title, content, rate, anonym"
   ]
  }
 ],
 "metadata": {
  "kernelspec": {
   "display_name": "Python 3",
   "language": "python",
   "name": "python3"
  },
  "language_info": {
   "codemirror_mode": {
    "name": "ipython",
    "version": 3
   },
   "file_extension": ".py",
   "mimetype": "text/x-python",
   "name": "python",
   "nbconvert_exporter": "python",
   "pygments_lexer": "ipython3",
   "version": "3.7.1"
  }
 },
 "nbformat": 4,
 "nbformat_minor": 4
}
